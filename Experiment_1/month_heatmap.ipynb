{
 "cells": [
  {
   "cell_type": "code",
   "execution_count": 1,
   "id": "79521537-2196-4ff5-a549-9e35cb212777",
   "metadata": {},
   "outputs": [],
   "source": [
    "gap_time = 1\n",
    "#gap_time = 10  # gap time between each segment\n",
    "win_size = [10, 30, 60]  # window size of each segment\n",
    "step_max = 5 # maximum step of ConvLSTM\n",
    "\n",
    "\n",
    "#raw_data_path = \"output_file.csv\"\n",
    "raw_data_path = \"month_finally_transposed_hourly_resampled.csv\"  # path to load raw data\n",
    "#model_path = '../MSCRED/'\n",
    "train_data_path = \"\"\n",
    "test_data_path = \"\"\n",
    "reconstructed_data_path = \"\"\n",
    "\n",
    "\n",
    "train_start_id = 10\n",
    "train_end_id = 800\n",
    "\n",
    "test_start_id = 800\n",
    "test_end_id = 2000\n",
    "\n",
    "valid_start_id = 800\n",
    "valid_end_id = 1000\n",
    "\n",
    "training_iters = 5\n",
    "save_model_step = 1\n",
    "\n",
    "learning_rate = 0.0002\n",
    "\n",
    "threhold = 0.005\n",
    "alpha = 1.5"
   ]
  },
  {
   "cell_type": "code",
   "execution_count": 2,
   "id": "518bf052-9317-4283-87a3-17c0400df7d0",
   "metadata": {},
   "outputs": [],
   "source": [
    "import numpy as np\n",
    "import pandas as pd\n",
    "import seaborn as sns\n",
    "import matplotlib\n",
    "import matplotlib.pyplot as plt"
   ]
  },
  {
   "cell_type": "code",
   "execution_count": 3,
   "id": "ee2dcd28-0d7e-437d-8fca-cb4a9d545f9f",
   "metadata": {},
   "outputs": [],
   "source": [
    "class SignatureMatrices:\n",
    "    def __init__(self):\n",
    "\n",
    "        #df = pd.read_csv(raw_data_path)\n",
    "        #df_new = df.drop(labels=0, axis=1)\n",
    "        self.raw_data = pd.read_csv(raw_data_path, index_col = 0)\n",
    "        self.series_number = self.raw_data.shape[0]\n",
    "        self.series_length = self.raw_data.shape[1]\n",
    "        self.signature_matrices_number = int(self.series_length / gap_time)\n",
    "\n",
    "        print(\"series_number is\", self.series_number)\n",
    "        print(\"series_length is\", self.series_length)\n",
    "        print(\"signature_matrices_number is\", self.signature_matrices_number)\n",
    "\n",
    "    def signature_matrices_generation(self, win):\n",
    "        \"\"\"\n",
    "        Generation signature matrices according win_size and gap_time, the size of raw_data is n * T, n is the number of\n",
    "        time series, T is the length of time series.\n",
    "        To represent the inter-correlations between different pairs of time series in a multivariate time series segment\n",
    "        from t − w to t, we construct an n × n signature matrix Mt based upon the pairwise inner-product of two time series\n",
    "        within this segment.\n",
    "        :param win: the length of the time series segment\n",
    "        :return: the signature matrices\n",
    "        \"\"\"\n",
    "\n",
    "        if win == 0:\n",
    "            print(\"The size of win cannot be 0\")\n",
    "\n",
    "        raw_data = np.asarray(self.raw_data)\n",
    "        signature_matrices = np.zeros((self.signature_matrices_number, self.series_number, self.series_number))\n",
    "\n",
    "        for t in range(win, self.signature_matrices_number):\n",
    "            raw_data_t = raw_data[:, t - win:t]\n",
    "            signature_matrices[t] = np.dot(raw_data_t, raw_data_t.T) / win\n",
    "            #print(\"signature_matrices[t]: \" + str(signature_matrices[t]))\n",
    "\n",
    "        return signature_matrices\n",
    "\n",
    "    def generate_train_test(self, signature_matrices):\n",
    "        \"\"\"\n",
    "        Generate train and test dataset, and store them to ../data/train/train.npy and ../data/test/test.npy\n",
    "        :param signature_matrices:\n",
    "        :return:\n",
    "        \"\"\"\n",
    "        train_dataset = []\n",
    "        test_dataset = []\n",
    "\n",
    "        for data_id in range(self.signature_matrices_number):\n",
    "            index = data_id - step_max + 1\n",
    "            if data_id < train_start_id:\n",
    "                continue\n",
    "            index_dataset = signature_matrices[:, index:index + step_max]\n",
    "            if data_id < test_start_id:\n",
    "                train_dataset.append(index_dataset)\n",
    "            else:\n",
    "                test_dataset.append(index_dataset)\n",
    "\n",
    "        train_dataset = np.asarray(train_dataset)\n",
    "        train_dataset = np.reshape(train_dataset, [-1, step_max, self.series_number, self.series_number,\n",
    "                                                   signature_matrices.shape[0]])\n",
    "        test_dataset = np.asarray(test_dataset)\n",
    "        test_dataset = np.reshape(test_dataset, [-1, step_max,self.series_number, self.series_number,\n",
    "                                                signature_matrices.shape[0]])\n",
    "\n",
    "        print(\"train dataset shape is\", train_dataset.shape)\n",
    "        print(\"test dataset shape is\", test_dataset.shape)\n",
    "\n",
    "        train_path = \"\"\n",
    "        #if not os.path.exists(train_path):\n",
    "            #os.makedirs(train_path)\n",
    "        train_path = \"train.npy\"\n",
    "\n",
    "        test_path = \"\"\n",
    "        #if not os.path.exists(test_path):\n",
    "            #os.makedirs(test_path)\n",
    "        test_path = \"test.npy\"\n",
    "\n",
    "        np.save(train_path, train_dataset)\n",
    "        np.save(test_path, test_dataset)\n"
   ]
  },
  {
   "cell_type": "code",
   "execution_count": 4,
   "id": "406f59fe-25e8-4b23-bf79-9e06624b4be8",
   "metadata": {},
   "outputs": [
    {
     "name": "stdout",
     "output_type": "stream",
     "text": [
      "series_number is 4\n",
      "series_length is 672\n",
      "signature_matrices_number is 672\n",
      "the shape of signature_matrices is (3, 672, 4, 4)\n",
      "train dataset shape is (662, 5, 4, 4, 3)\n",
      "test dataset shape is (0, 5, 4, 4, 3)\n"
     ]
    }
   ],
   "source": [
    "Matrices = SignatureMatrices()\n",
    "signature_matrices = []\n",
    "\n",
    "    # Generation signature matrices according the win size w\n",
    "for w in win_size:\n",
    "    signature_matrices.append(Matrices.signature_matrices_generation(w))\n",
    "#print(signature_matrices)   \n",
    "\n",
    "signature_matrices = np.asarray(signature_matrices)\n",
    "print(\"the shape of signature_matrices is\", signature_matrices.shape)\n",
    "\n",
    "    # Generate train and test dataset\n",
    "Matrices.generate_train_test(signature_matrices)\n"
   ]
  },
  {
   "cell_type": "code",
   "execution_count": null,
   "id": "6a1748bd-f493-43a4-88df-ff3ce98127e8",
   "metadata": {},
   "outputs": [],
   "source": [
    "fig, axes = plt.subplots(168, 12, figsize=(10, 150))\n",
    "\n",
    "global_min = np.min([np.min(matrix) for matrix in signature_matrices[0]])\n",
    "global_max = np.max([np.max(matrix) for matrix in signature_matrices[0]])\n",
    "\n",
    "\n",
    "#fig, axes = plt.subplots(168, 3, figsize=(100, 16))\n",
    "\n",
    "for i in range(4):\n",
    "    for j in range(3):\n",
    "        for k, matrix in enumerate(signature_matrices[0][:5]):\n",
    "            row, col = k % 168, (j + 3*i)\n",
    "            ax = axes[row, col] \n",
    "            sns.heatmap(matrix, ax=ax, cmap=\"YlGnBu\", vmin=global_min, vmax=global_max, annot=False, cbar = False) \n"
   ]
  },
  {
   "cell_type": "code",
   "execution_count": null,
   "id": "43d400a0-0a88-49cd-88bc-f97bacb33a35",
   "metadata": {},
   "outputs": [],
   "source": []
  },
  {
   "cell_type": "code",
   "execution_count": 13,
   "id": "37f9e1da-1f60-4006-a456-25ecfbf82b9b",
   "metadata": {
    "scrolled": true
   },
   "outputs": [
    {
     "data": {
      "text/plain": [
       "(673, 4, 4)"
      ]
     },
     "execution_count": 13,
     "metadata": {},
     "output_type": "execute_result"
    }
   ],
   "source": [
    "signature_matrices[0].shape\n"
   ]
  },
  {
   "cell_type": "code",
   "execution_count": null,
   "id": "638589af-cdae-4e95-afcc-b8200c0b7d83",
   "metadata": {},
   "outputs": [],
   "source": []
  }
 ],
 "metadata": {
  "kernelspec": {
   "display_name": "Python 3 (ipykernel)",
   "language": "python",
   "name": "python3"
  },
  "language_info": {
   "codemirror_mode": {
    "name": "ipython",
    "version": 3
   },
   "file_extension": ".py",
   "mimetype": "text/x-python",
   "name": "python",
   "nbconvert_exporter": "python",
   "pygments_lexer": "ipython3",
   "version": "3.10.10"
  }
 },
 "nbformat": 4,
 "nbformat_minor": 5
}
